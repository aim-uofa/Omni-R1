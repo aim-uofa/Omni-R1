{
 "cells": [
  {
   "cell_type": "code",
   "execution_count": null,
   "id": "07a47de6",
   "metadata": {},
   "outputs": [],
   "source": [
    "import torch\n",
    "from transformers import (\n",
    "    Qwen2_5OmniModel,\n",
    "    Qwen2_5OmniProcessor,\n",
    "    GenerationConfig,\n",
    "    Qwen2_5OmniThinkerForConditionalGeneration,\n",
    ")\n",
    "from transformers import AutoModelForCausalLM, AutoTokenizer\n",
    "from qwen_omni_utils import process_mm_info, process_vision_info\n",
    "\n",
    "\n",
    "omni_path = \"/path/to/Omni-R1\"\n"
   ]
  },
  {
   "cell_type": "code",
   "execution_count": null,
   "id": "0af02b62",
   "metadata": {},
   "outputs": [],
   "source": [
    "model = Qwen2_5OmniThinkerForConditionalGeneration.from_pretrained(\n",
    "    omni_path,\n",
    "    device_map=\"auto\",\n",
    "    torch_dtype=torch.bfloat16,\n",
    "    attn_implementation=\"flash_attention_2\",\n",
    ").eval()\n",
    "processor = Qwen2_5OmniProcessor.from_pretrained(omni_path)\n",
    "\n",
    "\n",
    "generation_config = GenerationConfig(\n",
    "    use_cache=True, max_new_tokens=1024, do_sample=False\n",
    ")"
   ]
  },
  {
   "cell_type": "code",
   "execution_count": null,
   "id": "def07ac4",
   "metadata": {},
   "outputs": [],
   "source": [
    "def inference(video_path, prompt, sys_prompt):\n",
    "    messages = [\n",
    "        {\"role\": \"system\", \"content\": [{\"type\": \"text\", \"text\": sys_prompt}]},\n",
    "        {\n",
    "            \"role\": \"user\",\n",
    "            \"content\": [\n",
    "                {\"type\": \"video\", \"video\": video_path},\n",
    "                {\"type\": \"text\", \"text\": prompt},\n",
    "            ],\n",
    "        },\n",
    "    ]\n",
    "    text_input = processor.apply_chat_template(\n",
    "        messages, tokenize=False, add_generation_prompt=True\n",
    "    )\n",
    "\n",
    "    audio_input, image_input, video_input, process_args = process_mm_info(\n",
    "        messages, use_audio_in_video=False\n",
    "    )\n",
    "\n",
    "    inputs = processor(\n",
    "        text=text_input[0],\n",
    "        images=image_input,\n",
    "        audios=audio_input,\n",
    "        videos=video_input,\n",
    "        return_tensors=\"pt\",\n",
    "        do_resize=True,\n",
    "    )\n",
    "\n",
    "    # 生成输出\n",
    "    with torch.inference_mode():\n",
    "        generated_ids = model.generate(**inputs, generation_config=generation_config)\n",
    "\n",
    "    prompt_length = inputs[\"input_ids\"].size(1)\n",
    "    completion_ids = generated_ids[:, prompt_length:]\n",
    "    # Decode the generated completions\n",
    "    text = processor.batch_decode(completion_ids, skip_special_tokens=True)\n",
    "    return text"
   ]
  },
  {
   "cell_type": "code",
   "execution_count": null,
   "id": "11940f9d",
   "metadata": {},
   "outputs": [],
   "source": [
    "from IPython.display import Video"
   ]
  },
  {
   "cell_type": "code",
   "execution_count": null,
   "id": "58f85a30",
   "metadata": {},
   "outputs": [],
   "source": [
    "video_path = \"https://qianwen-res.oss-cn-beijing.aliyuncs.com/Qwen2.5-Omni/shopping.mp4\"\n",
    "prompt = \"How many kind of drinks can you see in the video?\"\n",
    "\n",
    "display(Video(video_path, width=640, height=360))\n",
    "\n",
    "## Use a local HuggingFace model to inference.\n",
    "response = inference(\n",
    "    video_path, prompt=prompt, sys_prompt=\"You are a helpful assistant.\"\n",
    ")\n",
    "print(response[0])"
   ]
  },
  {
   "cell_type": "code",
   "execution_count": null,
   "id": "6ebb1765",
   "metadata": {},
   "outputs": [],
   "source": [
    "prompt = create_ref_prompt(selected_frames, text_prompt, use_time_stamp=True)\n",
    "\n",
    "text_input = processor.apply_chat_template(\n",
    "    prompt, tokenize=False, add_generation_prompt=True\n",
    ")\n",
    "\n",
    "\n",
    "audio_input, image_input, video_input, kwarg = process_mm_info(\n",
    "    prompt, use_audio_in_video=False\n",
    ")\n",
    "\n",
    "inputs = processor(\n",
    "    text=text_input[0],\n",
    "    images=image_input,\n",
    "    audios=audio_input,\n",
    "    videos=video_input,\n",
    "    return_tensors=\"pt\",\n",
    "    do_resize=False,\n",
    ")\n",
    "\n",
    "\n",
    "# 生成输出\n",
    "with torch.inference_mode():\n",
    "    generated_ids = model.generate(**inputs, generation_config=generation_config)\n",
    "\n",
    "prompt_length = inputs[\"input_ids\"].size(1)\n",
    "completion_ids = generated_ids[:, prompt_length:]\n",
    "# Decode the generated completions\n",
    "output_text = processor.batch_decode(completion_ids, skip_special_tokens=True)"
   ]
  }
 ],
 "metadata": {
  "kernelspec": {
   "display_name": "test",
   "language": "python",
   "name": "python3"
  },
  "language_info": {
   "name": "python",
   "version": "3.10.16"
  }
 },
 "nbformat": 4,
 "nbformat_minor": 5
}
